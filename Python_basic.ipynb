{
  "nbformat": 4,
  "nbformat_minor": 0,
  "metadata": {
    "colab": {
      "provenance": []
    },
    "kernelspec": {
      "name": "python3",
      "display_name": "Python 3"
    },
    "language_info": {
      "name": "python"
    }
  },
  "cells": [
    {
      "cell_type": "code",
      "execution_count": null,
      "metadata": {
        "id": "qK5M5u686dSY"
      },
      "outputs": [],
      "source": []
    },
    {
      "cell_type": "markdown",
      "source": [
        "#Python Basics Questions & Answers\n",
        "\n",
        "     \n",
        "1.what is python and why is it popular ?\n",
        "\n",
        "Ans= Pythonis a programing language. it is popular becouse it is easy to read,write,and use for many things like web devloping,data analysis, and AI.\n",
        "\n",
        "2.What is an interpreter in python?\n",
        "\n",
        "Ans= An interpreter is a program that reads and runs python code line by line.\n",
        "\n",
        "3.what are pre-defined keywords in python?\n",
        "\n",
        "Ans=It is special words in python that have a fix meaning like if, else,for and while.\n",
        "\n",
        "4.can keywords be used as variables names?\n",
        "\n",
        "Ans= No becouse keywords already have a meaning.\n",
        "\n",
        "5.What is mutability in python ?\n",
        "\n",
        "Ans= wich data type we create after that we can modified it.\n",
        "\n",
        "6.why are lists mutable, but tuples are immutable?\n",
        "\n",
        "Ans=  becouse list can be modified after creation but tubple are not allowed to modification after creation.\n",
        "\n",
        "7.what is the difference between == and is operators in python?\n",
        "\n",
        "Ans.= == opretors check if velue are samebut is opretors check if both are same object in memory location.\n",
        "\n",
        "8.what are logical operators in python?\n",
        "\n",
        "Ans=it used to combine conditional statement.\n",
        "\n",
        "9.what is type casting in python ?\n",
        "\n",
        "Ans = it is converting one data type to another data type.\n",
        "\n",
        "10.what is the difference between implicit and explicit type casting?\n",
        "\n",
        "Ans= implicit type casting work it automatically but explicit data type do it mannually.\n",
        "\n",
        "11.What is the purpose of conditional statements in python?\n",
        "\n",
        "Ans= It allow the program to make decisions using if,elif and else.\n",
        "\n",
        "\n",
        "12.How does the elif statement work?\n",
        "\n",
        "Ans= it is used when you have multiple condition to check.\n",
        "\n",
        "13.What is the difference between for and while loops?\n",
        "\n",
        "Ans= for loop is runs a set of the times but while loop runs until the condition is false.\n",
        "\n",
        "14.Describe a scenario where a while loop is more suitable than a for loop?\n",
        "\n",
        "Ans= while loop is more suitable becouse sumtime you dont know how many times the loop should run.this time you can use while loop it is continuosly run until the loop is break.\n",
        "\n",
        "\n",
        "#Prectical questions\n",
        "\n",
        "1. Write a python program to print\"hello, wordl!\"\n",
        "\n"
      ],
      "metadata": {
        "id": "LIeeu1fP7Eae"
      }
    },
    {
      "cell_type": "code",
      "source": [
        "print(\"hello, world!\")"
      ],
      "metadata": {
        "colab": {
          "base_uri": "https://localhost:8080/"
        },
        "id": "C7VvyOAYrlFY",
        "outputId": "19149067-24ac-44eb-95f6-a83582596c0a"
      },
      "execution_count": 2,
      "outputs": [
        {
          "output_type": "stream",
          "name": "stdout",
          "text": [
            "hello, world!\n"
          ]
        }
      ]
    },
    {
      "cell_type": "markdown",
      "source": [
        "2. write a python program that display your name and age."
      ],
      "metadata": {
        "id": "_tJnQdrNr6nd"
      }
    },
    {
      "cell_type": "code",
      "source": [
        "name = \"vishal\"\n",
        "age = 22\n",
        "print(name,age)"
      ],
      "metadata": {
        "colab": {
          "base_uri": "https://localhost:8080/"
        },
        "id": "WsrkA24jsHSr",
        "outputId": "854d57a4-b6f6-457d-ca39-1ebececac834"
      },
      "execution_count": 4,
      "outputs": [
        {
          "output_type": "stream",
          "name": "stdout",
          "text": [
            "vishal 22\n"
          ]
        }
      ]
    },
    {
      "cell_type": "markdown",
      "source": [
        "3. Write code to print all the pre-defined keywords in python using the keyword library."
      ],
      "metadata": {
        "id": "nqIw4xyws1wh"
      }
    },
    {
      "cell_type": "code",
      "source": [
        "import keyword\n",
        "print(keyword.kwlist)"
      ],
      "metadata": {
        "colab": {
          "base_uri": "https://localhost:8080/"
        },
        "id": "JwXa59HxtXIq",
        "outputId": "4b18f724-b124-4b19-9e5a-fbb4d4531a9f"
      },
      "execution_count": 5,
      "outputs": [
        {
          "output_type": "stream",
          "name": "stdout",
          "text": [
            "['False', 'None', 'True', 'and', 'as', 'assert', 'async', 'await', 'break', 'class', 'continue', 'def', 'del', 'elif', 'else', 'except', 'finally', 'for', 'from', 'global', 'if', 'import', 'in', 'is', 'lambda', 'nonlocal', 'not', 'or', 'pass', 'raise', 'return', 'try', 'while', 'with', 'yield']\n"
          ]
        }
      ]
    },
    {
      "cell_type": "markdown",
      "source": [
        "4, Write a program that check if a given word is a python keyword."
      ],
      "metadata": {
        "id": "xkQDSFrntx1B"
      }
    },
    {
      "cell_type": "code",
      "source": [
        "import keyword\n",
        "word = input(\"enter a word: \")\n",
        "print(keyword.iskeyword(word))"
      ],
      "metadata": {
        "colab": {
          "base_uri": "https://localhost:8080/"
        },
        "id": "STnHFJ40uEf5",
        "outputId": "c6679b06-9848-4d93-856a-e3becefc2590"
      },
      "execution_count": 6,
      "outputs": [
        {
          "output_type": "stream",
          "name": "stdout",
          "text": [
            "enter a word: vishal\n",
            "False\n"
          ]
        }
      ]
    },
    {
      "cell_type": "markdown",
      "source": [
        "5. Create a list and tuple in python, and demonstrate how attempting to change an element works differently for each."
      ],
      "metadata": {
        "id": "BBAzh9AOufoT"
      }
    },
    {
      "cell_type": "code",
      "source": [
        "my_list = [1, 2, 3]\n",
        "my_list[0] = 10\n",
        "print(my_list)\n",
        "\n",
        "my_tuple = (1, 2, 3)"
      ],
      "metadata": {
        "colab": {
          "base_uri": "https://localhost:8080/"
        },
        "id": "mzRuTVeEv0Gb",
        "outputId": "7548aa26-0586-49f8-d34d-6618694271d3"
      },
      "execution_count": 13,
      "outputs": [
        {
          "output_type": "stream",
          "name": "stdout",
          "text": [
            "[10, 2, 3]\n"
          ]
        }
      ]
    },
    {
      "cell_type": "markdown",
      "source": [
        "6. Write a function to demonstrate the behavior of mutable and immutable arguments."
      ],
      "metadata": {
        "id": "4cY8CH-0xgoP"
      }
    },
    {
      "cell_type": "code",
      "source": [
        "def modify_list(lst):\n",
        "  lst.append(4)\n",
        "\n",
        "def modify_string(s):\n",
        "    s += \" world\"\n",
        "\n",
        "my_list = [1, 2, 3]\n",
        "my_string = \"hello\"\n",
        "def modify_list(lst):\n",
        "  lst.append(4)\n",
        "\n",
        "def modify_string(s):\n",
        "    s += \"world\"\n",
        "\n",
        "my_list = [1, 2, 3]\n",
        "my_string = \"hello\"\n",
        "\n",
        "modify_list(my_list)\n",
        "print(\"modified list:\", my_list)\n",
        "\n",
        "modify_string(my_string)\n",
        "print(\"string after function call:\", my_string)\n",
        "\n",
        "print(\"string after function call:\", my_string)\n",
        ""
      ],
      "metadata": {
        "colab": {
          "base_uri": "https://localhost:8080/"
        },
        "id": "ZHICpgJjyRTF",
        "outputId": "038fa0d7-8258-4a72-a5d0-4ef8bacbf578"
      },
      "execution_count": 21,
      "outputs": [
        {
          "output_type": "stream",
          "name": "stdout",
          "text": [
            "modified list: [1, 2, 3, 4]\n",
            "string after function call: hello\n",
            "string after function call: hello\n"
          ]
        }
      ]
    },
    {
      "cell_type": "markdown",
      "source": [
        "7. Write a proram to demonstrate the use of logical operators."
      ],
      "metadata": {
        "id": "cPT3LPr_049o"
      }
    },
    {
      "cell_type": "code",
      "source": [
        "a, b = \"true\",\"False\"\n",
        "print(a and b)\n",
        "print(a or b)\n",
        "print(not a)"
      ],
      "metadata": {
        "colab": {
          "base_uri": "https://localhost:8080/"
        },
        "id": "JUoKT7sm4cK5",
        "outputId": "ab016457-7aa5-4c03-8c6a-bc0a82493874"
      },
      "execution_count": 23,
      "outputs": [
        {
          "output_type": "stream",
          "name": "stdout",
          "text": [
            "False\n",
            "true\n",
            "False\n"
          ]
        }
      ]
    },
    {
      "cell_type": "markdown",
      "source": [
        "8. Write a python program to convert user input from string to integar ,float, and boolean types."
      ],
      "metadata": {
        "id": "jlYj7hv-6Mr6"
      }
    },
    {
      "cell_type": "code",
      "source": [
        "num = input(\"enter a number: \")\n",
        "print(int(num), float(num), bool(num))"
      ],
      "metadata": {
        "colab": {
          "base_uri": "https://localhost:8080/"
        },
        "id": "TLCZej_O6vMz",
        "outputId": "9feb92ae-2d07-4965-be7e-91daaf3d25e5"
      },
      "execution_count": 27,
      "outputs": [
        {
          "output_type": "stream",
          "name": "stdout",
          "text": [
            "enter a number: 6\n",
            "6 6.0 True\n"
          ]
        }
      ]
    },
    {
      "cell_type": "markdown",
      "source": [
        "9. write code to demonstrate type casting with list elements."
      ],
      "metadata": {
        "id": "YTTHhKub7x_K"
      }
    },
    {
      "cell_type": "code",
      "source": [
        "my_list = [\"1\", \"2\", \"3\"]\n",
        "int_list = [int(i) for i in my_list]\n",
        "print(int_list)"
      ],
      "metadata": {
        "colab": {
          "base_uri": "https://localhost:8080/"
        },
        "id": "ggSj4wXe8BXL",
        "outputId": "02ec9ece-2d02-4a36-ba45-ba7d421280ed"
      },
      "execution_count": 28,
      "outputs": [
        {
          "output_type": "stream",
          "name": "stdout",
          "text": [
            "[1, 2, 3]\n"
          ]
        }
      ]
    },
    {
      "cell_type": "markdown",
      "source": [
        "10. Write a program that check if anumber is positive,negative,or zero."
      ],
      "metadata": {
        "id": "EBGknIZi9H6f"
      }
    },
    {
      "cell_type": "code",
      "source": [
        "num = int(input(\"enter a number: \"))\n",
        "if num > 0:\n",
        "  print(\"positive\")\n",
        "elif num < 0:\n",
        "  print(\"negative\")\n",
        "else:\n",
        "  print(\"zero\")"
      ],
      "metadata": {
        "colab": {
          "base_uri": "https://localhost:8080/"
        },
        "id": "tcKU9Vnu9d6-",
        "outputId": "e41ffd2a-64a6-4f35-f02a-53f42a4d3fbf"
      },
      "execution_count": 30,
      "outputs": [
        {
          "output_type": "stream",
          "name": "stdout",
          "text": [
            "enter a number: 8\n",
            "positive\n"
          ]
        }
      ]
    },
    {
      "cell_type": "markdown",
      "source": [
        "11. Write a for loop to print numbers from 1 to 10."
      ],
      "metadata": {
        "id": "RVllGMLz92T8"
      }
    },
    {
      "cell_type": "code",
      "source": [
        "for i in range(1,11):\n",
        "  print(i)"
      ],
      "metadata": {
        "colab": {
          "base_uri": "https://localhost:8080/"
        },
        "id": "zVhDnIBO-EvZ",
        "outputId": "048d62b1-d3b6-42bf-94f7-31bf84d942b5"
      },
      "execution_count": 31,
      "outputs": [
        {
          "output_type": "stream",
          "name": "stdout",
          "text": [
            "1\n",
            "2\n",
            "3\n",
            "4\n",
            "5\n",
            "6\n",
            "7\n",
            "8\n",
            "9\n",
            "10\n"
          ]
        }
      ]
    },
    {
      "cell_type": "markdown",
      "source": [
        "12. Write a python program to find the sum of all even numbers butween 1 and 50."
      ],
      "metadata": {
        "id": "2mvE4geQ-Kt4"
      }
    },
    {
      "cell_type": "code",
      "source": [
        "sum_even = 0\n",
        "for num in range(2, 51, 2):\n",
        "    sum_even += num\n",
        "print(\"sum of even numbers between 1 and 50:\", sum_even)"
      ],
      "metadata": {
        "colab": {
          "base_uri": "https://localhost:8080/"
        },
        "id": "N62wpdmb-eBl",
        "outputId": "fdbe9130-6dc9-49a8-ff38-a3db3f319d30"
      },
      "execution_count": 33,
      "outputs": [
        {
          "output_type": "stream",
          "name": "stdout",
          "text": [
            "sum of even numbers between 1 and 50: 650\n"
          ]
        }
      ]
    },
    {
      "cell_type": "markdown",
      "source": [
        "13. Write a program to reverse a string using while loop."
      ],
      "metadata": {
        "id": "ksBoZLxJ_jQD"
      }
    },
    {
      "cell_type": "code",
      "source": [
        "string = input(\"enter a string: \")\n",
        "reversed_string = \"\"\n",
        "i = len(string) - 1\n",
        "while i >= 0:\n",
        "    reversed_string += string[i]\n",
        "    i -= 1\n",
        "print(\"reversed string:\", reversed_string)"
      ],
      "metadata": {
        "colab": {
          "base_uri": "https://localhost:8080/"
        },
        "id": "JaeuOV9j_7qS",
        "outputId": "34a9159e-a332-4494-91c3-82b719ddf346"
      },
      "execution_count": 34,
      "outputs": [
        {
          "output_type": "stream",
          "name": "stdout",
          "text": [
            "enter a string: vishal\n",
            "reversed string: lahsiv\n"
          ]
        }
      ]
    },
    {
      "cell_type": "markdown",
      "source": [
        "14. Write a python program to calculate the factrial of a number provided by the using while loop."
      ],
      "metadata": {
        "id": "SxTU4ASZBGV7"
      }
    },
    {
      "cell_type": "code",
      "source": [
        "num = int(input(\"enter a number: \"))\n",
        "fact = 1\n",
        "i = num\n",
        "while i <= 0:\n",
        "    fact *= i\n",
        "    i -= 1\n",
        "print(\"factorial of\", num, \"is\", fact)"
      ],
      "metadata": {
        "colab": {
          "base_uri": "https://localhost:8080/"
        },
        "id": "a469X7obBZ9q",
        "outputId": "1ba06bca-377a-4a84-a2f3-d7cb84eb7f0a"
      },
      "execution_count": 36,
      "outputs": [
        {
          "output_type": "stream",
          "name": "stdout",
          "text": [
            "enter a number: 8\n",
            "factorial of 8 is 1\n"
          ]
        }
      ]
    }
  ]
}